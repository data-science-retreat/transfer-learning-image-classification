{
 "cells": [
  {
   "cell_type": "code",
   "execution_count": 2,
   "metadata": {
    "collapsed": true
   },
   "outputs": [],
   "source": [
    "seed = 12345\n",
    "from IPython.core.interactiveshell import InteractiveShell\n",
    "InteractiveShell.ast_node_interactivity = \"all\""
   ]
  },
  {
   "cell_type": "code",
   "execution_count": 1,
   "metadata": {
    "collapsed": false
   },
   "outputs": [],
   "source": [
    "import matplotlib \n",
    "matplotlib.use('Agg') \n",
    "%matplotlib inline\n",
    "import matplotlib.pyplot as plt"
   ]
  },
  {
   "cell_type": "code",
   "execution_count": 3,
   "metadata": {
    "collapsed": false
   },
   "outputs": [
    {
     "name": "stderr",
     "output_type": "stream",
     "text": [
      "Using Theano backend.\n",
      "Using gpu device 0: GeForce GTX 960M (CNMeM is disabled, cuDNN not available)\n"
     ]
    }
   ],
   "source": [
    "import os\n",
    "from keras.preprocessing.image import ImageDataGenerator, array_to_img, img_to_array, load_img\n",
    "from keras.preprocessing import image\n",
    "from keras.models import load_model\n",
    "import pandas as pd\n",
    "import h5py\n",
    "import numpy as np\n",
    "\n",
    "os.environ[\"THEANO_FLAGS\"] = \"mode=FAST_RUN,device=gpu,floatX=float32\""
   ]
  },
  {
   "cell_type": "code",
   "execution_count": 4,
   "metadata": {
    "collapsed": true
   },
   "outputs": [],
   "source": [
    "# Load the original trained model with its weights\n",
    "model = load_model('fine_tuned_model_all.h5')"
   ]
  },
  {
   "cell_type": "code",
   "execution_count": 5,
   "metadata": {
    "collapsed": false
   },
   "outputs": [],
   "source": [
    "# Load the fine-tuned weights\n",
    "model.load_weights('weights.best_28_11.hdf5')"
   ]
  },
  {
   "cell_type": "code",
   "execution_count": 6,
   "metadata": {
    "collapsed": true
   },
   "outputs": [],
   "source": [
    "train_data_dir = './UECFOOD100/data/train'\n",
    "validation_data_dir = './UECFOOD100/data/validation'\n",
    "img_width, img_height = 150, 150\n",
    "nb_train_samples = 10183\n",
    "nb_validation_samples = 4428"
   ]
  },
  {
   "cell_type": "code",
   "execution_count": 7,
   "metadata": {
    "collapsed": false
   },
   "outputs": [
    {
     "name": "stdout",
     "output_type": "stream",
     "text": [
      "Found 4428 images belonging to 100 classes.\n"
     ]
    }
   ],
   "source": [
    "test_datagen = ImageDataGenerator(rescale=1./255)\n",
    "\n",
    "validation_generator = test_datagen.flow_from_directory(\n",
    "        validation_data_dir,\n",
    "        target_size=(img_height, img_width),\n",
    "        batch_size=1,\n",
    "        class_mode='categorical',\n",
    "        shuffle=False,\n",
    "        seed=seed)"
   ]
  },
  {
   "cell_type": "code",
   "execution_count": 8,
   "metadata": {
    "collapsed": true
   },
   "outputs": [],
   "source": [
    "prediction_to_class_map = {v:k for k,v in validation_generator.class_indices.items()}"
   ]
  },
  {
   "cell_type": "markdown",
   "metadata": {},
   "source": [
    "# Save the Class-index map in a pickle file:\n",
    "<code> \n",
    "import pickle \n",
    "with open('class_indices_map.p', 'wb') as fp:\n",
    "    pickle.dump(prediction_to_class_map, fp)\n",
    "</code>\n",
    "To load it use:\n",
    "<code>\n",
    "with open('class_indices_map.p', 'rb') as fp:\n",
    "    prediction_to_class_map = pickle.load(fp)\n",
    "</code>"
   ]
  },
  {
   "cell_type": "code",
   "execution_count": 9,
   "metadata": {
    "collapsed": false
   },
   "outputs": [
    {
     "name": "stdout",
     "output_type": "stream",
     "text": [
      "1/1 [==============================] - 0s\n"
     ]
    },
    {
     "data": {
      "text/plain": [
       "'12'"
      ]
     },
     "execution_count": 9,
     "metadata": {},
     "output_type": "execute_result"
    },
    {
     "data": {
      "text/plain": [
       "array(['12', '67', '95', '19', '71'], \n",
       "      dtype='<U2')"
      ]
     },
     "execution_count": 9,
     "metadata": {},
     "output_type": "execute_result"
    }
   ],
   "source": [
    "# img_path = './UECFOOD100/raw_data/6/501.jpg'\n",
    "img_path = './UECFOOD100/data/train/12/1122_0.jpg'\n",
    "img = image.load_img(img_path, target_size=(150, 150))\n",
    "x = image.img_to_array(img)\n",
    "x = np.expand_dims(x, axis=0)\n",
    "\n",
    "clas = model.predict_classes(x/255)[0]\n",
    "\n",
    "preds = model.predict(x/255)\n",
    "prediction_to_class_map[clas]\n",
    "np.vectorize(prediction_to_class_map.get)(preds.argsort()[0,-1:-6:-1])"
   ]
  },
  {
   "cell_type": "code",
   "execution_count": 10,
   "metadata": {
    "collapsed": false,
    "scrolled": false
   },
   "outputs": [
    {
     "data": {
      "text/plain": [
       "[1.2357007828612154, 0.69489611562782294]"
      ]
     },
     "execution_count": 10,
     "metadata": {},
     "output_type": "execute_result"
    }
   ],
   "source": [
    "model.evaluate_generator(validation_generator, val_samples=4428)\n",
    "# [1.2357008281115918, 0.69489611562782294]"
   ]
  },
  {
   "cell_type": "code",
   "execution_count": 116,
   "metadata": {
    "collapsed": false
   },
   "outputs": [
    {
     "name": "stdout",
     "output_type": "stream",
     "text": [
      "Found 4428 images belonging to 100 classes.\n"
     ]
    }
   ],
   "source": [
    "test_datagen = ImageDataGenerator(rescale=1./255)\n",
    "validation_generator = test_datagen.flow_from_directory(\n",
    "        validation_data_dir,\n",
    "        target_size=(img_height, img_width),\n",
    "        batch_size=1,\n",
    "        class_mode='categorical',\n",
    "        shuffle=False,\n",
    "        seed=seed)\n",
    "\n",
    "predictions = model.predict_generator(validation_generator, val_samples=4428)"
   ]
  },
  {
   "cell_type": "code",
   "execution_count": 117,
   "metadata": {
    "collapsed": false
   },
   "outputs": [
    {
     "data": {
      "text/plain": [
       "9"
      ]
     },
     "execution_count": 117,
     "metadata": {},
     "output_type": "execute_result"
    }
   ],
   "source": [
    "sum(predictions[:188].argmax(axis=-1)!=0)"
   ]
  },
  {
   "cell_type": "code",
   "execution_count": 72,
   "metadata": {
    "collapsed": false
   },
   "outputs": [],
   "source": [
    "val_lab_df = pd.DataFrame(validation_labels)\n",
    "val_lab_df.columns=['Labels']"
   ]
  },
  {
   "cell_type": "code",
   "execution_count": 73,
   "metadata": {
    "collapsed": false,
    "scrolled": true
   },
   "outputs": [
    {
     "data": {
      "text/html": [
       "<div>\n",
       "<table border=\"1\" class=\"dataframe\">\n",
       "  <thead>\n",
       "    <tr style=\"text-align: right;\">\n",
       "      <th></th>\n",
       "      <th>Labels</th>\n",
       "    </tr>\n",
       "  </thead>\n",
       "  <tbody>\n",
       "    <tr>\n",
       "      <th>0</th>\n",
       "      <td>0</td>\n",
       "    </tr>\n",
       "    <tr>\n",
       "      <th>1</th>\n",
       "      <td>0</td>\n",
       "    </tr>\n",
       "    <tr>\n",
       "      <th>2</th>\n",
       "      <td>0</td>\n",
       "    </tr>\n",
       "    <tr>\n",
       "      <th>3</th>\n",
       "      <td>0</td>\n",
       "    </tr>\n",
       "    <tr>\n",
       "      <th>4</th>\n",
       "      <td>0</td>\n",
       "    </tr>\n",
       "    <tr>\n",
       "      <th>5</th>\n",
       "      <td>0</td>\n",
       "    </tr>\n",
       "    <tr>\n",
       "      <th>6</th>\n",
       "      <td>0</td>\n",
       "    </tr>\n",
       "    <tr>\n",
       "      <th>7</th>\n",
       "      <td>0</td>\n",
       "    </tr>\n",
       "    <tr>\n",
       "      <th>8</th>\n",
       "      <td>0</td>\n",
       "    </tr>\n",
       "    <tr>\n",
       "      <th>9</th>\n",
       "      <td>0</td>\n",
       "    </tr>\n",
       "    <tr>\n",
       "      <th>10</th>\n",
       "      <td>0</td>\n",
       "    </tr>\n",
       "    <tr>\n",
       "      <th>11</th>\n",
       "      <td>0</td>\n",
       "    </tr>\n",
       "    <tr>\n",
       "      <th>12</th>\n",
       "      <td>0</td>\n",
       "    </tr>\n",
       "    <tr>\n",
       "      <th>13</th>\n",
       "      <td>0</td>\n",
       "    </tr>\n",
       "    <tr>\n",
       "      <th>14</th>\n",
       "      <td>0</td>\n",
       "    </tr>\n",
       "    <tr>\n",
       "      <th>15</th>\n",
       "      <td>0</td>\n",
       "    </tr>\n",
       "    <tr>\n",
       "      <th>16</th>\n",
       "      <td>0</td>\n",
       "    </tr>\n",
       "    <tr>\n",
       "      <th>17</th>\n",
       "      <td>0</td>\n",
       "    </tr>\n",
       "    <tr>\n",
       "      <th>18</th>\n",
       "      <td>0</td>\n",
       "    </tr>\n",
       "    <tr>\n",
       "      <th>19</th>\n",
       "      <td>0</td>\n",
       "    </tr>\n",
       "    <tr>\n",
       "      <th>20</th>\n",
       "      <td>0</td>\n",
       "    </tr>\n",
       "    <tr>\n",
       "      <th>21</th>\n",
       "      <td>0</td>\n",
       "    </tr>\n",
       "    <tr>\n",
       "      <th>22</th>\n",
       "      <td>0</td>\n",
       "    </tr>\n",
       "    <tr>\n",
       "      <th>23</th>\n",
       "      <td>0</td>\n",
       "    </tr>\n",
       "    <tr>\n",
       "      <th>24</th>\n",
       "      <td>0</td>\n",
       "    </tr>\n",
       "    <tr>\n",
       "      <th>25</th>\n",
       "      <td>0</td>\n",
       "    </tr>\n",
       "    <tr>\n",
       "      <th>26</th>\n",
       "      <td>0</td>\n",
       "    </tr>\n",
       "    <tr>\n",
       "      <th>27</th>\n",
       "      <td>0</td>\n",
       "    </tr>\n",
       "    <tr>\n",
       "      <th>28</th>\n",
       "      <td>0</td>\n",
       "    </tr>\n",
       "    <tr>\n",
       "      <th>29</th>\n",
       "      <td>0</td>\n",
       "    </tr>\n",
       "    <tr>\n",
       "      <th>...</th>\n",
       "      <td>...</td>\n",
       "    </tr>\n",
       "    <tr>\n",
       "      <th>4398</th>\n",
       "      <td>99</td>\n",
       "    </tr>\n",
       "    <tr>\n",
       "      <th>4399</th>\n",
       "      <td>99</td>\n",
       "    </tr>\n",
       "    <tr>\n",
       "      <th>4400</th>\n",
       "      <td>99</td>\n",
       "    </tr>\n",
       "    <tr>\n",
       "      <th>4401</th>\n",
       "      <td>99</td>\n",
       "    </tr>\n",
       "    <tr>\n",
       "      <th>4402</th>\n",
       "      <td>99</td>\n",
       "    </tr>\n",
       "    <tr>\n",
       "      <th>4403</th>\n",
       "      <td>99</td>\n",
       "    </tr>\n",
       "    <tr>\n",
       "      <th>4404</th>\n",
       "      <td>99</td>\n",
       "    </tr>\n",
       "    <tr>\n",
       "      <th>4405</th>\n",
       "      <td>99</td>\n",
       "    </tr>\n",
       "    <tr>\n",
       "      <th>4406</th>\n",
       "      <td>99</td>\n",
       "    </tr>\n",
       "    <tr>\n",
       "      <th>4407</th>\n",
       "      <td>99</td>\n",
       "    </tr>\n",
       "    <tr>\n",
       "      <th>4408</th>\n",
       "      <td>99</td>\n",
       "    </tr>\n",
       "    <tr>\n",
       "      <th>4409</th>\n",
       "      <td>99</td>\n",
       "    </tr>\n",
       "    <tr>\n",
       "      <th>4410</th>\n",
       "      <td>99</td>\n",
       "    </tr>\n",
       "    <tr>\n",
       "      <th>4411</th>\n",
       "      <td>99</td>\n",
       "    </tr>\n",
       "    <tr>\n",
       "      <th>4412</th>\n",
       "      <td>99</td>\n",
       "    </tr>\n",
       "    <tr>\n",
       "      <th>4413</th>\n",
       "      <td>99</td>\n",
       "    </tr>\n",
       "    <tr>\n",
       "      <th>4414</th>\n",
       "      <td>99</td>\n",
       "    </tr>\n",
       "    <tr>\n",
       "      <th>4415</th>\n",
       "      <td>99</td>\n",
       "    </tr>\n",
       "    <tr>\n",
       "      <th>4416</th>\n",
       "      <td>99</td>\n",
       "    </tr>\n",
       "    <tr>\n",
       "      <th>4417</th>\n",
       "      <td>99</td>\n",
       "    </tr>\n",
       "    <tr>\n",
       "      <th>4418</th>\n",
       "      <td>99</td>\n",
       "    </tr>\n",
       "    <tr>\n",
       "      <th>4419</th>\n",
       "      <td>99</td>\n",
       "    </tr>\n",
       "    <tr>\n",
       "      <th>4420</th>\n",
       "      <td>99</td>\n",
       "    </tr>\n",
       "    <tr>\n",
       "      <th>4421</th>\n",
       "      <td>99</td>\n",
       "    </tr>\n",
       "    <tr>\n",
       "      <th>4422</th>\n",
       "      <td>99</td>\n",
       "    </tr>\n",
       "    <tr>\n",
       "      <th>4423</th>\n",
       "      <td>99</td>\n",
       "    </tr>\n",
       "    <tr>\n",
       "      <th>4424</th>\n",
       "      <td>99</td>\n",
       "    </tr>\n",
       "    <tr>\n",
       "      <th>4425</th>\n",
       "      <td>99</td>\n",
       "    </tr>\n",
       "    <tr>\n",
       "      <th>4426</th>\n",
       "      <td>99</td>\n",
       "    </tr>\n",
       "    <tr>\n",
       "      <th>4427</th>\n",
       "      <td>99</td>\n",
       "    </tr>\n",
       "  </tbody>\n",
       "</table>\n",
       "<p>4428 rows × 1 columns</p>\n",
       "</div>"
      ],
      "text/plain": [
       "      Labels\n",
       "0          0\n",
       "1          0\n",
       "2          0\n",
       "3          0\n",
       "4          0\n",
       "5          0\n",
       "6          0\n",
       "7          0\n",
       "8          0\n",
       "9          0\n",
       "10         0\n",
       "11         0\n",
       "12         0\n",
       "13         0\n",
       "14         0\n",
       "15         0\n",
       "16         0\n",
       "17         0\n",
       "18         0\n",
       "19         0\n",
       "20         0\n",
       "21         0\n",
       "22         0\n",
       "23         0\n",
       "24         0\n",
       "25         0\n",
       "26         0\n",
       "27         0\n",
       "28         0\n",
       "29         0\n",
       "...      ...\n",
       "4398      99\n",
       "4399      99\n",
       "4400      99\n",
       "4401      99\n",
       "4402      99\n",
       "4403      99\n",
       "4404      99\n",
       "4405      99\n",
       "4406      99\n",
       "4407      99\n",
       "4408      99\n",
       "4409      99\n",
       "4410      99\n",
       "4411      99\n",
       "4412      99\n",
       "4413      99\n",
       "4414      99\n",
       "4415      99\n",
       "4416      99\n",
       "4417      99\n",
       "4418      99\n",
       "4419      99\n",
       "4420      99\n",
       "4421      99\n",
       "4422      99\n",
       "4423      99\n",
       "4424      99\n",
       "4425      99\n",
       "4426      99\n",
       "4427      99\n",
       "\n",
       "[4428 rows x 1 columns]"
      ]
     },
     "execution_count": 73,
     "metadata": {},
     "output_type": "execute_result"
    }
   ],
   "source": [
    "val_lab_df"
   ]
  },
  {
   "cell_type": "code",
   "execution_count": 76,
   "metadata": {
    "collapsed": false,
    "scrolled": true
   },
   "outputs": [
    {
     "data": {
      "text/plain": [
       "Labels\n",
       "0     188\n",
       "1      41\n",
       "2      32\n",
       "3      34\n",
       "4      68\n",
       "5      37\n",
       "6      36\n",
       "7      31\n",
       "8      51\n",
       "9      73\n",
       "10     41\n",
       "11     50\n",
       "12     39\n",
       "13     47\n",
       "14     32\n",
       "15     49\n",
       "16    106\n",
       "17     42\n",
       "18     34\n",
       "19     40\n",
       "20     46\n",
       "21     42\n",
       "22     41\n",
       "23     35\n",
       "24     35\n",
       "25     36\n",
       "26     39\n",
       "27     31\n",
       "28     31\n",
       "29     35\n",
       "     ... \n",
       "70     36\n",
       "71     33\n",
       "72     33\n",
       "73     32\n",
       "74     45\n",
       "75     34\n",
       "76     37\n",
       "77     36\n",
       "78     30\n",
       "79     33\n",
       "80     37\n",
       "81     38\n",
       "82     43\n",
       "83     38\n",
       "84     35\n",
       "85     40\n",
       "86    105\n",
       "87     33\n",
       "88     35\n",
       "89     51\n",
       "90     36\n",
       "91     51\n",
       "92     51\n",
       "93     34\n",
       "94     57\n",
       "95     33\n",
       "96     41\n",
       "97     35\n",
       "98     47\n",
       "99     43\n",
       "dtype: int64"
      ]
     },
     "execution_count": 76,
     "metadata": {},
     "output_type": "execute_result"
    }
   ],
   "source": [
    "val_lab_df.groupby('Labels').size()"
   ]
  },
  {
   "cell_type": "code",
   "execution_count": 85,
   "metadata": {
    "collapsed": false
   },
   "outputs": [
    {
     "data": {
      "text/plain": [
       "0.27906976744186046"
      ]
     },
     "execution_count": 85,
     "metadata": {},
     "output_type": "execute_result"
    }
   ],
   "source": [
    "12/43"
   ]
  },
  {
   "cell_type": "code",
   "execution_count": 113,
   "metadata": {
    "collapsed": false,
    "scrolled": true
   },
   "outputs": [
    {
     "name": "stdout",
     "output_type": "stream",
     "text": [
      "Found 4428 images belonging to 100 classes.\n"
     ]
    }
   ],
   "source": [
    "label_gen = ImageDataGenerator()\n",
    "label_generator = label_gen.flow_from_directory(validation_data_dir,target_size=(2,2),\n",
    "        batch_size=1,\n",
    "        class_mode='categorical',\n",
    "        shuffle=False,\n",
    "        seed=seed)\n",
    "i=0\n",
    "validation_labels= []\n",
    "for _, yy in label_generator:\n",
    "    i += 1\n",
    "    validation_labels = np.hstack([validation_labels,np.argmax(yy)])\n",
    "    if i >= nb_validation_samples:\n",
    "        break\n",
    "\n",
    "validation_labels = validation_labels.astype(int)"
   ]
  },
  {
   "cell_type": "code",
   "execution_count": 52,
   "metadata": {
    "collapsed": false
   },
   "outputs": [],
   "source": [
    "# 1351/4428 # 0.30510388437217706"
   ]
  },
  {
   "cell_type": "code",
   "execution_count": null,
   "metadata": {
    "collapsed": false
   },
   "outputs": [],
   "source": [
    "# def top_k(k=5):\n",
    "#     #return a set of top k predictions for each data point\"\"\"\n",
    "#     def nested_function(preds):\n",
    "#         return set(preds[-1:-k-1:-1])\n",
    "#     return nested_function"
   ]
  },
  {
   "cell_type": "code",
   "execution_count": 60,
   "metadata": {
    "collapsed": false
   },
   "outputs": [],
   "source": [
    "# validation_labels in np.apply_along_axis(top_k(5), 1, a)"
   ]
  },
  {
   "cell_type": "code",
   "execution_count": 122,
   "metadata": {
    "collapsed": false
   },
   "outputs": [],
   "source": [
    "# def top_5(preds):\n",
    "#     #return a set of top k predictions for each data point\"\"\"\n",
    "#     return set(preds[-1:-6:-1])    "
   ]
  },
  {
   "cell_type": "code",
   "execution_count": 135,
   "metadata": {
    "collapsed": false
   },
   "outputs": [
    {
     "data": {
      "text/plain": [
       "array([39, 44, 79, 47,  5,  6, 54, 72, 41, 63,  9, 69, 98, 73, 33, 32, 59,\n",
       "       76, 18, 17, 55, 62, 97, 28, 58, 57,  3, 53, 12, 84,  7, 16, 83, 20,\n",
       "       42, 26, 61, 82, 21, 70, 11, 27, 52, 67, 46, 71,  4, 93, 19, 77, 49,\n",
       "       90, 35, 88, 64, 15, 95,  8, 36, 13, 40, 22, 94, 30, 74, 25, 14, 43,\n",
       "       48, 81, 96, 51, 31, 38, 37, 65, 56, 68,  2, 60, 34, 50, 10, 66, 45,\n",
       "       92, 91, 29, 80, 75,  1, 78, 24, 87, 89, 86, 23, 85, 99,  0], dtype=int64)"
      ]
     },
     "execution_count": 135,
     "metadata": {},
     "output_type": "execute_result"
    }
   ],
   "source": [
    "predictions.argsort(axis=-1)[i]"
   ]
  },
  {
   "cell_type": "code",
   "execution_count": 136,
   "metadata": {
    "collapsed": false,
    "scrolled": true
   },
   "outputs": [
    {
     "data": {
      "text/plain": [
       "array([ 0, 99, 85, 23, 86], dtype=int64)"
      ]
     },
     "execution_count": 136,
     "metadata": {},
     "output_type": "execute_result"
    }
   ],
   "source": [
    "predictions.argsort(axis=-1)[i,:-6:-1]"
   ]
  },
  {
   "cell_type": "code",
   "execution_count": 126,
   "metadata": {
    "collapsed": false
   },
   "outputs": [
    {
     "data": {
      "text/plain": [
       "array([ 0, 99, 85, 23, 86], dtype=int64)"
      ]
     },
     "execution_count": 126,
     "metadata": {},
     "output_type": "execute_result"
    }
   ],
   "source": [
    "predictions.argsort(axis=-1)[i,[-1,-2,-3,-4,-5]]"
   ]
  },
  {
   "cell_type": "code",
   "execution_count": 129,
   "metadata": {
    "collapsed": false
   },
   "outputs": [
    {
     "data": {
      "text/plain": [
       "array([39, 44, 79, 47,  5,  6, 54, 72, 41, 63,  9, 69, 98, 73, 33, 32, 59,\n",
       "       76, 18, 17, 55, 62, 97, 28, 58, 57,  3, 53, 12, 84,  7, 16, 83, 20,\n",
       "       42, 26, 61, 82, 21, 70, 11, 27, 52, 67, 46, 71,  4, 93, 19, 77, 49,\n",
       "       90, 35, 88, 64, 15, 95,  8, 36, 13, 40, 22, 94, 30, 74, 25, 14, 43,\n",
       "       48, 81, 96, 51, 31, 38, 37, 65, 56, 68,  2, 60, 34, 50, 10, 66, 45,\n",
       "       92, 91, 29, 80, 75,  1, 78, 24, 87, 89], dtype=int64)"
      ]
     },
     "execution_count": 129,
     "metadata": {},
     "output_type": "execute_result"
    }
   ],
   "source": [
    "predictions.argsort(axis=-1)[i,:-5:]"
   ]
  },
  {
   "cell_type": "code",
   "execution_count": 137,
   "metadata": {
    "collapsed": false
   },
   "outputs": [],
   "source": [
    "correct = 0\n",
    "for i in range(nb_validation_samples):\n",
    "    correct += validation_labels[i] in predictions.argsort(axis=-1)[i,[-1,-2,-3,-4,-5]]"
   ]
  },
  {
   "cell_type": "code",
   "execution_count": 138,
   "metadata": {
    "collapsed": false
   },
   "outputs": [],
   "source": [
    "top10 = 0\n",
    "for i in range(nb_validation_samples):\n",
    "    top10 += validation_labels[i] in predictions.argsort(axis=-1)[i,:-11:-1]"
   ]
  },
  {
   "cell_type": "code",
   "execution_count": 139,
   "metadata": {
    "collapsed": false
   },
   "outputs": [
    {
     "data": {
      "text/plain": [
       "0.912375790424571"
      ]
     },
     "execution_count": 139,
     "metadata": {},
     "output_type": "execute_result"
    },
    {
     "data": {
      "text/plain": [
       "0.9566395663956639"
      ]
     },
     "execution_count": 139,
     "metadata": {},
     "output_type": "execute_result"
    }
   ],
   "source": [
    "accuracy = correct/nb_validation_samples\n",
    "accuracy  # 0.912375790424571\n",
    "top10accuracy = top10/nb_validation_samples\n",
    "top10accuracy  # 0.9566395663956639"
   ]
  },
  {
   "cell_type": "code",
   "execution_count": 146,
   "metadata": {
    "collapsed": false
   },
   "outputs": [
    {
     "data": {
      "text/plain": [
       "4040"
      ]
     },
     "execution_count": 146,
     "metadata": {},
     "output_type": "execute_result"
    }
   ],
   "source": [
    "correct"
   ]
  },
  {
   "cell_type": "code",
   "execution_count": 142,
   "metadata": {
    "collapsed": false
   },
   "outputs": [
    {
     "data": {
      "text/plain": [
       "0.912375790424571"
      ]
     },
     "execution_count": 142,
     "metadata": {},
     "output_type": "execute_result"
    }
   ],
   "source": [
    "4040/4428"
   ]
  },
  {
   "cell_type": "code",
   "execution_count": 56,
   "metadata": {
    "collapsed": false,
    "scrolled": true
   },
   "outputs": [],
   "source": [
    "validation_data_dir = \"./UECFOOD100/data/validation/\"\n",
    "d = []\n",
    "for food_class in os.listdir(validation_data_dir):\n",
    "    for image_name in os.listdir(os.path.join(validation_data_dir, food_class)):\n",
    "        if image_name.endswith(\".jpg\"):\n",
    "            img_path = os.path.join(validation_data_dir, food_class,image_name)\n",
    "            img = image.load_img(img_path, target_size=(150, 150))\n",
    "            x = image.img_to_array(img)\n",
    "            x = np.expand_dims(x, axis=0)\n",
    "#             mapped_class = model.predict_classes(x/255, verbose=0)[0]\n",
    "#             clas = prediction_to_class_map[mapped_class]\n",
    "#             print('predicted class is:', clas)\n",
    "            preds = model.predict(x/255)            \n",
    "            preds = preds.argsort()[0,-1::-1]\n",
    "            preds = np.vectorize(prediction_to_class_map.get)(preds)\n",
    "            d.append({'image': image_name, 'actual_class': food_class, 'predicted_class': preds[0], 'pred_prob': preds})\n",
    "# #             print('image:', image_name, 'True:', food_class,  'predicted:', preds )\n",
    "df = pd.DataFrame(d)"
   ]
  },
  {
   "cell_type": "code",
   "execution_count": 57,
   "metadata": {
    "collapsed": false
   },
   "outputs": [],
   "source": [
    "errors = df[df['predicted_class']!=df.actual_class]"
   ]
  },
  {
   "cell_type": "code",
   "execution_count": 147,
   "metadata": {
    "collapsed": false,
    "scrolled": false
   },
   "outputs": [
    {
     "data": {
      "text/plain": [
       "3077"
      ]
     },
     "execution_count": 147,
     "metadata": {},
     "output_type": "execute_result"
    }
   ],
   "source": [
    "df[(df.predicted_class == df.actual_class)].shape[0]"
   ]
  },
  {
   "cell_type": "code",
   "execution_count": 148,
   "metadata": {
    "collapsed": false
   },
   "outputs": [
    {
     "data": {
      "text/plain": [
       "0.6948961156278229"
      ]
     },
     "execution_count": 148,
     "metadata": {},
     "output_type": "execute_result"
    }
   ],
   "source": [
    "3077/df.shape[0]"
   ]
  },
  {
   "cell_type": "code",
   "execution_count": 149,
   "metadata": {
    "collapsed": true
   },
   "outputs": [
    {
     "data": {
      "text/html": [
       "<div>\n",
       "<table border=\"1\" class=\"dataframe\">\n",
       "  <thead>\n",
       "    <tr style=\"text-align: right;\">\n",
       "      <th></th>\n",
       "      <th>actual_class</th>\n",
       "      <th>image</th>\n",
       "      <th>pred_prob</th>\n",
       "      <th>predicted_class</th>\n",
       "    </tr>\n",
       "  </thead>\n",
       "  <tbody>\n",
       "    <tr>\n",
       "      <th>27</th>\n",
       "      <td>1</td>\n",
       "      <td>13264_0.jpg</td>\n",
       "      <td>[87, 68, 6, 1, 81, 63, 86, 99, 94, 9, 3, 55, 5...</td>\n",
       "      <td>87</td>\n",
       "    </tr>\n",
       "    <tr>\n",
       "      <th>33</th>\n",
       "      <td>1</td>\n",
       "      <td>13639_0.jpg</td>\n",
       "      <td>[77, 4, 95, 5, 10, 76, 12, 99, 88, 64, 50, 2, ...</td>\n",
       "      <td>77</td>\n",
       "    </tr>\n",
       "    <tr>\n",
       "      <th>34</th>\n",
       "      <td>1</td>\n",
       "      <td>13671_0.jpg</td>\n",
       "      <td>[70, 87, 86, 30, 68, 1, 37, 12, 91, 95, 99, 88...</td>\n",
       "      <td>70</td>\n",
       "    </tr>\n",
       "    <tr>\n",
       "      <th>137</th>\n",
       "      <td>1</td>\n",
       "      <td>16290_0.jpg</td>\n",
       "      <td>[37, 1, 91, 6, 70, 83, 53, 68, 82, 89, 90, 43,...</td>\n",
       "      <td>37</td>\n",
       "    </tr>\n",
       "    <tr>\n",
       "      <th>147</th>\n",
       "      <td>1</td>\n",
       "      <td>41_0.jpg</td>\n",
       "      <td>[5, 92, 84, 87, 4, 6, 86, 9, 30, 10, 91, 27, 1...</td>\n",
       "      <td>5</td>\n",
       "    </tr>\n",
       "  </tbody>\n",
       "</table>\n",
       "</div>"
      ],
      "text/plain": [
       "    actual_class        image  \\\n",
       "27             1  13264_0.jpg   \n",
       "33             1  13639_0.jpg   \n",
       "34             1  13671_0.jpg   \n",
       "137            1  16290_0.jpg   \n",
       "147            1     41_0.jpg   \n",
       "\n",
       "                                             pred_prob predicted_class  \n",
       "27   [87, 68, 6, 1, 81, 63, 86, 99, 94, 9, 3, 55, 5...              87  \n",
       "33   [77, 4, 95, 5, 10, 76, 12, 99, 88, 64, 50, 2, ...              77  \n",
       "34   [70, 87, 86, 30, 68, 1, 37, 12, 91, 95, 99, 88...              70  \n",
       "137  [37, 1, 91, 6, 70, 83, 53, 68, 82, 89, 90, 43,...              37  \n",
       "147  [5, 92, 84, 87, 4, 6, 86, 9, 30, 10, 91, 27, 1...               5  "
      ]
     },
     "execution_count": 149,
     "metadata": {},
     "output_type": "execute_result"
    }
   ],
   "source": [
    "errors.head()"
   ]
  },
  {
   "cell_type": "code",
   "execution_count": 302,
   "metadata": {
    "collapsed": false
   },
   "outputs": [],
   "source": [
    "error_ratio = errors.groupby('actual_class').count()['image']/df.groupby('actual_class').count()['image']"
   ]
  },
  {
   "cell_type": "code",
   "execution_count": 307,
   "metadata": {
    "collapsed": false
   },
   "outputs": [
    {
     "data": {
      "text/plain": [
       "actual_class\n",
       "1      0.047872\n",
       "10     0.243902\n",
       "100    0.187500\n",
       "11     0.117647\n",
       "12     0.308824\n",
       "13     0.189189\n",
       "14     0.111111\n",
       "15     0.193548\n",
       "16     0.647059\n",
       "17     0.082192\n",
       "18     0.146341\n",
       "19     0.340000\n",
       "2           NaN\n",
       "20     0.127660\n",
       "21     0.468750\n",
       "22     0.061224\n",
       "23     0.094340\n",
       "24     0.619048\n",
       "25     0.411765\n",
       "26     0.275000\n",
       "27     0.304348\n",
       "28     0.285714\n",
       "29     0.317073\n",
       "3      0.600000\n",
       "30     0.514286\n",
       "31     0.583333\n",
       "32     0.358974\n",
       "33     0.516129\n",
       "34     0.193548\n",
       "35     0.628571\n",
       "         ...   \n",
       "72     0.055556\n",
       "73     0.151515\n",
       "74     0.484848\n",
       "75     0.281250\n",
       "76     0.311111\n",
       "77     0.529412\n",
       "78     0.108108\n",
       "79     0.472222\n",
       "8      0.333333\n",
       "80     0.090909\n",
       "81     0.405405\n",
       "82     0.289474\n",
       "83     0.441860\n",
       "84     0.184211\n",
       "85     0.314286\n",
       "86     0.550000\n",
       "87     0.295238\n",
       "88     0.333333\n",
       "89     0.628571\n",
       "9      0.372549\n",
       "90     0.750000\n",
       "91     0.568627\n",
       "92     0.176471\n",
       "93     0.323529\n",
       "94     0.140351\n",
       "95     0.272727\n",
       "96     0.024390\n",
       "97     0.228571\n",
       "98     0.255319\n",
       "99     0.604651\n",
       "Name: image, dtype: float64"
      ]
     },
     "execution_count": 307,
     "metadata": {},
     "output_type": "execute_result"
    }
   ],
   "source": [
    "error_ratio"
   ]
  },
  {
   "cell_type": "code",
   "execution_count": 131,
   "metadata": {
    "collapsed": true
   },
   "outputs": [
    {
     "data": {
      "text/plain": [
       "actual_class\n",
       "1       9\n",
       "10     10\n",
       "100     6\n",
       "11      4\n",
       "12     21\n",
       "13      7\n",
       "14      4\n",
       "15      6\n",
       "16     33\n",
       "17      6\n",
       "18      6\n",
       "19     17\n",
       "20      6\n",
       "21     15\n",
       "22      3\n",
       "23     10\n",
       "24     26\n",
       "25     14\n",
       "26     11\n",
       "27     14\n",
       "28     12\n",
       "29     13\n",
       "3      21\n",
       "30     18\n",
       "31     21\n",
       "32     14\n",
       "33     16\n",
       "34      6\n",
       "35     22\n",
       "36     22\n",
       "       ..\n",
       "72      2\n",
       "73      5\n",
       "74     16\n",
       "75      9\n",
       "76     14\n",
       "77     18\n",
       "78      4\n",
       "79     17\n",
       "8      10\n",
       "80      3\n",
       "81     15\n",
       "82     11\n",
       "83     19\n",
       "84      7\n",
       "85     11\n",
       "86     22\n",
       "87     31\n",
       "88     11\n",
       "89     22\n",
       "9      19\n",
       "90     27\n",
       "91     29\n",
       "92      9\n",
       "93     11\n",
       "94      8\n",
       "95      9\n",
       "96      1\n",
       "97      8\n",
       "98     12\n",
       "99     26\n",
       "Name: image, dtype: int64"
      ]
     },
     "execution_count": 131,
     "metadata": {},
     "output_type": "execute_result"
    }
   ],
   "source": [
    "errors.groupby('actual_class').count()['image']"
   ]
  },
  {
   "cell_type": "code",
   "execution_count": 133,
   "metadata": {
    "collapsed": true
   },
   "outputs": [
    {
     "data": {
      "text/html": [
       "<div>\n",
       "<table border=\"1\" class=\"dataframe\">\n",
       "  <thead>\n",
       "    <tr style=\"text-align: right;\">\n",
       "      <th></th>\n",
       "      <th>image</th>\n",
       "    </tr>\n",
       "    <tr>\n",
       "      <th>actual_class</th>\n",
       "      <th></th>\n",
       "    </tr>\n",
       "  </thead>\n",
       "  <tbody>\n",
       "    <tr>\n",
       "      <th>1</th>\n",
       "      <td>188</td>\n",
       "    </tr>\n",
       "    <tr>\n",
       "      <th>10</th>\n",
       "      <td>41</td>\n",
       "    </tr>\n",
       "    <tr>\n",
       "      <th>100</th>\n",
       "      <td>32</td>\n",
       "    </tr>\n",
       "    <tr>\n",
       "      <th>11</th>\n",
       "      <td>34</td>\n",
       "    </tr>\n",
       "    <tr>\n",
       "      <th>12</th>\n",
       "      <td>68</td>\n",
       "    </tr>\n",
       "    <tr>\n",
       "      <th>13</th>\n",
       "      <td>37</td>\n",
       "    </tr>\n",
       "    <tr>\n",
       "      <th>14</th>\n",
       "      <td>36</td>\n",
       "    </tr>\n",
       "    <tr>\n",
       "      <th>15</th>\n",
       "      <td>31</td>\n",
       "    </tr>\n",
       "    <tr>\n",
       "      <th>16</th>\n",
       "      <td>51</td>\n",
       "    </tr>\n",
       "    <tr>\n",
       "      <th>17</th>\n",
       "      <td>73</td>\n",
       "    </tr>\n",
       "    <tr>\n",
       "      <th>18</th>\n",
       "      <td>41</td>\n",
       "    </tr>\n",
       "    <tr>\n",
       "      <th>19</th>\n",
       "      <td>50</td>\n",
       "    </tr>\n",
       "    <tr>\n",
       "      <th>2</th>\n",
       "      <td>39</td>\n",
       "    </tr>\n",
       "    <tr>\n",
       "      <th>20</th>\n",
       "      <td>47</td>\n",
       "    </tr>\n",
       "    <tr>\n",
       "      <th>21</th>\n",
       "      <td>32</td>\n",
       "    </tr>\n",
       "    <tr>\n",
       "      <th>22</th>\n",
       "      <td>49</td>\n",
       "    </tr>\n",
       "    <tr>\n",
       "      <th>23</th>\n",
       "      <td>106</td>\n",
       "    </tr>\n",
       "    <tr>\n",
       "      <th>24</th>\n",
       "      <td>42</td>\n",
       "    </tr>\n",
       "    <tr>\n",
       "      <th>25</th>\n",
       "      <td>34</td>\n",
       "    </tr>\n",
       "    <tr>\n",
       "      <th>26</th>\n",
       "      <td>40</td>\n",
       "    </tr>\n",
       "    <tr>\n",
       "      <th>27</th>\n",
       "      <td>46</td>\n",
       "    </tr>\n",
       "    <tr>\n",
       "      <th>28</th>\n",
       "      <td>42</td>\n",
       "    </tr>\n",
       "    <tr>\n",
       "      <th>29</th>\n",
       "      <td>41</td>\n",
       "    </tr>\n",
       "    <tr>\n",
       "      <th>3</th>\n",
       "      <td>35</td>\n",
       "    </tr>\n",
       "    <tr>\n",
       "      <th>30</th>\n",
       "      <td>35</td>\n",
       "    </tr>\n",
       "    <tr>\n",
       "      <th>31</th>\n",
       "      <td>36</td>\n",
       "    </tr>\n",
       "    <tr>\n",
       "      <th>32</th>\n",
       "      <td>39</td>\n",
       "    </tr>\n",
       "    <tr>\n",
       "      <th>33</th>\n",
       "      <td>31</td>\n",
       "    </tr>\n",
       "    <tr>\n",
       "      <th>34</th>\n",
       "      <td>31</td>\n",
       "    </tr>\n",
       "    <tr>\n",
       "      <th>35</th>\n",
       "      <td>35</td>\n",
       "    </tr>\n",
       "    <tr>\n",
       "      <th>...</th>\n",
       "      <td>...</td>\n",
       "    </tr>\n",
       "    <tr>\n",
       "      <th>72</th>\n",
       "      <td>36</td>\n",
       "    </tr>\n",
       "    <tr>\n",
       "      <th>73</th>\n",
       "      <td>33</td>\n",
       "    </tr>\n",
       "    <tr>\n",
       "      <th>74</th>\n",
       "      <td>33</td>\n",
       "    </tr>\n",
       "    <tr>\n",
       "      <th>75</th>\n",
       "      <td>32</td>\n",
       "    </tr>\n",
       "    <tr>\n",
       "      <th>76</th>\n",
       "      <td>45</td>\n",
       "    </tr>\n",
       "    <tr>\n",
       "      <th>77</th>\n",
       "      <td>34</td>\n",
       "    </tr>\n",
       "    <tr>\n",
       "      <th>78</th>\n",
       "      <td>37</td>\n",
       "    </tr>\n",
       "    <tr>\n",
       "      <th>79</th>\n",
       "      <td>36</td>\n",
       "    </tr>\n",
       "    <tr>\n",
       "      <th>8</th>\n",
       "      <td>30</td>\n",
       "    </tr>\n",
       "    <tr>\n",
       "      <th>80</th>\n",
       "      <td>33</td>\n",
       "    </tr>\n",
       "    <tr>\n",
       "      <th>81</th>\n",
       "      <td>37</td>\n",
       "    </tr>\n",
       "    <tr>\n",
       "      <th>82</th>\n",
       "      <td>38</td>\n",
       "    </tr>\n",
       "    <tr>\n",
       "      <th>83</th>\n",
       "      <td>43</td>\n",
       "    </tr>\n",
       "    <tr>\n",
       "      <th>84</th>\n",
       "      <td>38</td>\n",
       "    </tr>\n",
       "    <tr>\n",
       "      <th>85</th>\n",
       "      <td>35</td>\n",
       "    </tr>\n",
       "    <tr>\n",
       "      <th>86</th>\n",
       "      <td>40</td>\n",
       "    </tr>\n",
       "    <tr>\n",
       "      <th>87</th>\n",
       "      <td>105</td>\n",
       "    </tr>\n",
       "    <tr>\n",
       "      <th>88</th>\n",
       "      <td>33</td>\n",
       "    </tr>\n",
       "    <tr>\n",
       "      <th>89</th>\n",
       "      <td>35</td>\n",
       "    </tr>\n",
       "    <tr>\n",
       "      <th>9</th>\n",
       "      <td>51</td>\n",
       "    </tr>\n",
       "    <tr>\n",
       "      <th>90</th>\n",
       "      <td>36</td>\n",
       "    </tr>\n",
       "    <tr>\n",
       "      <th>91</th>\n",
       "      <td>51</td>\n",
       "    </tr>\n",
       "    <tr>\n",
       "      <th>92</th>\n",
       "      <td>51</td>\n",
       "    </tr>\n",
       "    <tr>\n",
       "      <th>93</th>\n",
       "      <td>34</td>\n",
       "    </tr>\n",
       "    <tr>\n",
       "      <th>94</th>\n",
       "      <td>57</td>\n",
       "    </tr>\n",
       "    <tr>\n",
       "      <th>95</th>\n",
       "      <td>33</td>\n",
       "    </tr>\n",
       "    <tr>\n",
       "      <th>96</th>\n",
       "      <td>41</td>\n",
       "    </tr>\n",
       "    <tr>\n",
       "      <th>97</th>\n",
       "      <td>35</td>\n",
       "    </tr>\n",
       "    <tr>\n",
       "      <th>98</th>\n",
       "      <td>47</td>\n",
       "    </tr>\n",
       "    <tr>\n",
       "      <th>99</th>\n",
       "      <td>43</td>\n",
       "    </tr>\n",
       "  </tbody>\n",
       "</table>\n",
       "<p>100 rows × 1 columns</p>\n",
       "</div>"
      ],
      "text/plain": [
       "              image\n",
       "actual_class       \n",
       "1               188\n",
       "10               41\n",
       "100              32\n",
       "11               34\n",
       "12               68\n",
       "13               37\n",
       "14               36\n",
       "15               31\n",
       "16               51\n",
       "17               73\n",
       "18               41\n",
       "19               50\n",
       "2                39\n",
       "20               47\n",
       "21               32\n",
       "22               49\n",
       "23              106\n",
       "24               42\n",
       "25               34\n",
       "26               40\n",
       "27               46\n",
       "28               42\n",
       "29               41\n",
       "3                35\n",
       "30               35\n",
       "31               36\n",
       "32               39\n",
       "33               31\n",
       "34               31\n",
       "35               35\n",
       "...             ...\n",
       "72               36\n",
       "73               33\n",
       "74               33\n",
       "75               32\n",
       "76               45\n",
       "77               34\n",
       "78               37\n",
       "79               36\n",
       "8                30\n",
       "80               33\n",
       "81               37\n",
       "82               38\n",
       "83               43\n",
       "84               38\n",
       "85               35\n",
       "86               40\n",
       "87              105\n",
       "88               33\n",
       "89               35\n",
       "9                51\n",
       "90               36\n",
       "91               51\n",
       "92               51\n",
       "93               34\n",
       "94               57\n",
       "95               33\n",
       "96               41\n",
       "97               35\n",
       "98               47\n",
       "99               43\n",
       "\n",
       "[100 rows x 1 columns]"
      ]
     },
     "execution_count": 133,
     "metadata": {},
     "output_type": "execute_result"
    }
   ],
   "source": [
    "df.groupby('actual_class').count()[['image']]"
   ]
  },
  {
   "cell_type": "code",
   "execution_count": 134,
   "metadata": {
    "collapsed": true
   },
   "outputs": [
    {
     "data": {
      "text/plain": [
       "array([ array(['87', '68', '6', '1', '81', '63', '86', '99', '94', '9', '3', '55',\n",
       "       '54', '32', '35', '45', '47', '56', '69', '29', '88', '60', '30',\n",
       "       '70', '85', '8', '83', '27', '31', '16', '15', '12', '26', '10',\n",
       "       '5', '61', '92', '91', '84', '21', '52', '40', '96', '48', '57',\n",
       "       '43', '76', '50', '28', '78', '37', '93', '18', '42', '67', '41',\n",
       "       '77', '33', '62', '22', '39', '82', '79', '24', '59', '4', '7',\n",
       "       '95', '20', '19', '72', '46', '44', '11', '58', '74', '23', '34',\n",
       "       '100', '73', '17', '80', '25', '89', '71', '90', '65', '53', '13',\n",
       "       '14', '98', '51', '97', '75', '64', '38', '66', '49', '36', '2'], \n",
       "      dtype='<U3'),\n",
       "       array(['77', '4', '95', '5', '10', '76', '12', '99', '88', '64', '50', '2',\n",
       "       '21', '86', '90', '18', '30', '11', '87', '40', '36', '57', '89',\n",
       "       '54', '92', '70', '58', '31', '35', '33', '8', '100', '26', '16',\n",
       "       '34', '9', '82', '1', '67', '24', '72', '3', '7', '96', '28', '52',\n",
       "       '45', '22', '91', '93', '97', '44', '59', '37', '41', '25', '23',\n",
       "       '63', '98', '55', '27', '73', '69', '48', '84', '20', '53', '79',\n",
       "       '6', '47', '68', '75', '80', '29', '71', '42', '62', '65', '60',\n",
       "       '46', '81', '61', '19', '51', '83', '66', '39', '49', '17', '85',\n",
       "       '94', '74', '43', '78', '56', '14', '15', '38', '32', '13'], \n",
       "      dtype='<U3'),\n",
       "       array(['70', '87', '86', '30', '68', '1', '37', '12', '91', '95', '99',\n",
       "       '88', '3', '43', '48', '9', '19', '69', '6', '52', '31', '94', '77',\n",
       "       '81', '54', '53', '36', '18', '35', '63', '33', '47', '5', '57',\n",
       "       '27', '67', '16', '89', '93', '20', '55', '7', '90', '21', '24',\n",
       "       '82', '45', '40', '34', '42', '60', '62', '84', '73', '15', '46',\n",
       "       '76', '96', '29', '100', '10', '8', '4', '2', '50', '39', '79',\n",
       "       '41', '66', '98', '17', '71', '58', '92', '23', '28', '26', '59',\n",
       "       '22', '83', '56', '97', '72', '38', '64', '74', '25', '61', '44',\n",
       "       '85', '65', '51', '75', '11', '49', '32', '78', '80', '14', '13'], \n",
       "      dtype='<U3'),\n",
       "       ...,\n",
       "       array(['92', '9', '99', '87', '1', '5', '8', '50', '86', '4', '22', '3',\n",
       "       '10', '23', '88', '26', '30', '63', '6', '27', '91', '82', '18',\n",
       "       '31', '20', '84', '76', '35', '69', '21', '96', '55', '93', '11',\n",
       "       '43', '59', '40', '77', '83', '72', '53', '89', '64', '33', '48',\n",
       "       '54', '52', '70', '25', '73', '37', '90', '24', '100', '41', '16',\n",
       "       '28', '95', '81', '57', '39', '78', '45', '36', '60', '12', '29',\n",
       "       '61', '94', '42', '68', '75', '34', '56', '79', '67', '47', '32',\n",
       "       '66', '58', '85', '97', '19', '62', '2', '17', '98', '7', '74',\n",
       "       '15', '51', '71', '65', '13', '80', '46', '44', '49', '14', '38'], \n",
       "      dtype='<U3'),\n",
       "       array(['1', '99', '92', '86', '88', '87', '3', '9', '81', '4', '77', '50',\n",
       "       '10', '69', '63', '30', '35', '96', '8', '100', '22', '31', '5',\n",
       "       '21', '43', '11', '89', '91', '76', '48', '90', '41', '54', '20',\n",
       "       '18', '55', '64', '93', '26', '6', '23', '52', '33', '42', '29',\n",
       "       '36', '27', '70', '59', '61', '57', '75', '53', '73', '68', '37',\n",
       "       '39', '94', '12', '95', '72', '24', '82', '28', '16', '40', '84',\n",
       "       '78', '7', '45', '65', '2', '47', '56', '34', '67', '60', '19',\n",
       "       '98', '79', '15', '32', '74', '83', '25', '85', '51', '62', '66',\n",
       "       '58', '71', '97', '80', '13', '38', '46', '49', '14', '17', '44'], \n",
       "      dtype='<U3'),\n",
       "       array(['1', '99', '86', '3', '87', '9', '88', '30', '8', '10', '77', '81',\n",
       "       '35', '91', '92', '5', '69', '18', '54', '4', '63', '100', '70',\n",
       "       '6', '68', '42', '43', '37', '55', '96', '82', '52', '48', '21',\n",
       "       '31', '76', '36', '94', '29', '45', '20', '41', '16', '95', '22',\n",
       "       '67', '89', '40', '90', '53', '79', '26', '93', '12', '73', '50',\n",
       "       '7', '56', '33', '19', '72', '28', '83', '64', '32', '47', '27',\n",
       "       '84', '23', '15', '85', '2', '57', '11', '60', '61', '34', '97',\n",
       "       '65', '59', '24', '25', '78', '62', '38', '39', '75', '98', '71',\n",
       "       '17', '66', '46', '74', '58', '14', '13', '51', '80', '49', '44'], \n",
       "      dtype='<U3')], dtype=object)"
      ]
     },
     "execution_count": 134,
     "metadata": {},
     "output_type": "execute_result"
    }
   ],
   "source": [
    "errors.pred_prob.get_values()"
   ]
  },
  {
   "cell_type": "code",
   "execution_count": 284,
   "metadata": {
    "collapsed": false,
    "scrolled": true
   },
   "outputs": [
    {
     "data": {
      "text/plain": [
       "['.dropbox',\n",
       " '.dropbox.cache',\n",
       " '20161130_132750.jpg',\n",
       " '20161130_132750_copped.jpg',\n",
       " '301.jpg',\n",
       " 'desktop.ini',\n",
       " 'IMG_20161208_110617.jpg',\n",
       " 'Nanbanzuke_comp.jpg',\n",
       " 'test.jpg']"
      ]
     },
     "execution_count": 284,
     "metadata": {},
     "output_type": "execute_result"
    }
   ],
   "source": [
    "os.listdir(r'C:\\Users\\ali_a\\Dropbox')"
   ]
  },
  {
   "cell_type": "code",
   "execution_count": 371,
   "metadata": {
    "collapsed": false
   },
   "outputs": [
    {
     "name": "stdout",
     "output_type": "stream",
     "text": [
      "C:\\Users\\ali_a\\Dropbox\\687_prediction.jpg ['7' '97' '16' '38' '17' '74']\n",
      "C:\\Users\\ali_a\\Dropbox\\IMG_20161208_142251_prediction.jpg ['7' '16' '70' '46' '19' '71']\n",
      "C:\\Users\\ali_a\\Dropbox\\IMG_20161208_142358_prediction.jpg ['48' '7' '76' '52' '46' '16']\n",
      "C:\\Users\\ali_a\\Dropbox\\IMG_20161208_142557_prediction.jpg ['16' '48' '7' '52' '76' '46']\n",
      "C:\\Users\\ali_a\\Dropbox\\sushi_prediction.jpg ['7' '71' '81' '75' '67' '15']\n",
      "C:\\Users\\ali_a\\Dropbox\\test_prediction.jpg ['9' '3' '99' '33' '100' '86']\n"
     ]
    }
   ],
   "source": [
    "for f in os.listdir(r'C:\\Users\\ali_a\\Dropbox'):\n",
    "    if f.endswith(\".jpg\") and 'prediction' not in f:\n",
    "        img_path = os.path.join(r'C:\\Users\\ali_a\\Dropbox',f)\n",
    "        try:\n",
    "            img = image.load_img(img_path, target_size=(150, 150))             \n",
    "        except:\n",
    "            print('file read error. Skipped')\n",
    "            continue\n",
    "        x = image.img_to_array(img)\n",
    "        x = np.expand_dims(x, axis=0)\n",
    "        #             mapped_class = model.predict_classes(x/255, verbose=0)[0]\n",
    "        #             clas = prediction_to_class_map[mapped_class]\n",
    "        #             print('predicted class is:', clas)\n",
    "        live_prediction = model.predict(x/255)            \n",
    "        live_prediction = live_prediction.argsort()[0,-1::-1]\n",
    "        live_prediction = np.vectorize(prediction_to_class_map.get)(live_prediction)\n",
    "        print (img_path[:-4]+'_prediction.jpg', live_prediction[0:6])"
   ]
  },
  {
   "cell_type": "code",
   "execution_count": 298,
   "metadata": {
    "collapsed": false
   },
   "outputs": [
    {
     "data": {
      "text/plain": [
       "array(['50', '26', '93', '22', '27', '84', '11', '57', '24', '63', '72',\n",
       "       '70', '96', '33', '88', '52', '92', '58', '28', '69', '23', '20',\n",
       "       '31', '77', '34', '40', '48', '61', '73', '21', '6', '5', '29',\n",
       "       '76', '87', '98', '39', '35', '17', '82', '78', '94', '12', '16',\n",
       "       '64', '9', '83', '60', '49', '68', '62', '19', '42', '75', '4',\n",
       "       '55', '54', '65', '97', '100', '56', '86', '95', '3', '8', '45',\n",
       "       '18', '81', '44', '74', '59', '89', '99', '90', '37', '10', '47',\n",
       "       '2', '30', '53', '91', '7', '13', '41', '46', '67', '1', '85', '71',\n",
       "       '15', '43', '25', '66', '32', '79', '51', '36', '80', '38', '14'], \n",
       "      dtype='<U3')"
      ]
     },
     "execution_count": 298,
     "metadata": {},
     "output_type": "execute_result"
    }
   ],
   "source": [
    "live_prediction"
   ]
  },
  {
   "cell_type": "code",
   "execution_count": 645,
   "metadata": {
    "collapsed": false
   },
   "outputs": [],
   "source": [
    "# from PIL import ImageFont\n",
    "from PIL import ImageDraw\n",
    "from PIL import Image\n",
    "from PIL import ImageFont\n",
    "# img = Image.open(\"sample_in.jpg\")\n",
    "img_path = os.path.join(r'C:\\Users\\ali_a\\Dropbox','IMG_20161208_142251.jpg')\n",
    "img = Image.open(img_path)\n",
    "# Resize large images:\n",
    "if img.size[0] > 1000:\n",
    "    ratio = img.size[0]/1000\n",
    "    new_width = 1000\n",
    "    new_height = int(img.size[1]/ratio)\n",
    "    img = img.resize((new_width, new_height), resample=Image.BILINEAR)\n",
    "\n",
    "draw = ImageDraw.Draw(img)\n",
    "fontsize = 1\n",
    "font = ImageFont.truetype(r'C:\\Windows\\Fonts\\ARIAL.TTF', fontsize)\n",
    "text = 'Class: ' + str(live_prediction[0:6]) + '\\n' + 'Calories: ' + str(521)\n",
    "\n",
    "while draw.textsize(text, font=font)[0] < 0.3*img.size[0]:\n",
    "    fontsize +=1\n",
    "    font = ImageFont.truetype(r'C:\\Windows\\Fonts\\ARIAL.TTF', fontsize)\n",
    "\n",
    "fontsize -= 1\n",
    "font = ImageFont.truetype(r'C:\\Windows\\Fonts\\ARIAL.TTF', fontsize)\n",
    "textsize = draw.textsize(text, font=font)\n",
    "offset = font.getoffset(text)\n",
    "\n",
    "draw.rectangle((0,0,textsize[0]+offset[0],textsize[1]+offset[1]), fill=(255,255,255))\n",
    "draw.text((0, 0),text,(0,0,0),font=font)\n",
    "\n",
    "output_path = img_path[:-4]+'_prediction.jpg'\n",
    "img.save(output_path)"
   ]
  },
  {
   "cell_type": "code",
   "execution_count": 608,
   "metadata": {
    "collapsed": false
   },
   "outputs": [
    {
     "data": {
      "text/plain": [
       "(106, 22)"
      ]
     },
     "execution_count": 608,
     "metadata": {},
     "output_type": "execute_result"
    }
   ],
   "source": [
    "textsize = draw.textsize(text, font=font)\n",
    "textsize"
   ]
  },
  {
   "cell_type": "code",
   "execution_count": 604,
   "metadata": {
    "collapsed": false
   },
   "outputs": [],
   "source": [
    "draw.rectangle((0,0,textsize[0]+offset[0],textsize[1]+offset[1]), fill=(255,255,255))"
   ]
  },
  {
   "cell_type": "code",
   "execution_count": 605,
   "metadata": {
    "collapsed": false
   },
   "outputs": [
    {
     "data": {
      "text/plain": [
       "(0, 1)"
      ]
     },
     "execution_count": 605,
     "metadata": {},
     "output_type": "execute_result"
    }
   ],
   "source": [
    "offset = font.getoffset(text)\n",
    "offset"
   ]
  },
  {
   "cell_type": "code",
   "execution_count": 606,
   "metadata": {
    "collapsed": false
   },
   "outputs": [],
   "source": [
    "draw.text((0, 0),text,(0,0,0),font=font)"
   ]
  },
  {
   "cell_type": "code",
   "execution_count": 490,
   "metadata": {
    "collapsed": false
   },
   "outputs": [
    {
     "data": {
      "text/plain": [
       "(288, 200)"
      ]
     },
     "execution_count": 490,
     "metadata": {},
     "output_type": "execute_result"
    }
   ],
   "source": [
    "img.size"
   ]
  },
  {
   "cell_type": "code",
   "execution_count": 529,
   "metadata": {
    "collapsed": false
   },
   "outputs": [
    {
     "data": {
      "text/plain": [
       "'C:\\\\Windows\\\\Fonts\\\\ARIALUNI.TTF'"
      ]
     },
     "execution_count": 529,
     "metadata": {},
     "output_type": "execute_result"
    }
   ],
   "source": [
    "font.path"
   ]
  },
  {
   "cell_type": "code",
   "execution_count": null,
   "metadata": {
    "collapsed": true
   },
   "outputs": [],
   "source": []
  },
  {
   "cell_type": "code",
   "execution_count": null,
   "metadata": {
    "collapsed": true
   },
   "outputs": [],
   "source": []
  },
  {
   "cell_type": "code",
   "execution_count": null,
   "metadata": {
    "collapsed": false,
    "scrolled": true
   },
   "outputs": [],
   "source": [
    "img.info"
   ]
  },
  {
   "cell_type": "code",
   "execution_count": null,
   "metadata": {
    "collapsed": false
   },
   "outputs": [],
   "source": [
    "!pip uninstall piexif"
   ]
  },
  {
   "cell_type": "code",
   "execution_count": 338,
   "metadata": {
    "collapsed": false
   },
   "outputs": [],
   "source": [
    "import piexif\n",
    "exif_dict = piexif.load(img_path)"
   ]
  },
  {
   "cell_type": "code",
   "execution_count": 319,
   "metadata": {
    "collapsed": false
   },
   "outputs": [],
   "source": [
    "# exif_dict['Predicted']=True"
   ]
  },
  {
   "cell_type": "code",
   "execution_count": 342,
   "metadata": {
    "collapsed": false
   },
   "outputs": [],
   "source": [
    "# exif_bytes = piexif.dump(exif_dict)\n",
    "img.save(output_path, exif=exif_bytes)"
   ]
  },
  {
   "cell_type": "code",
   "execution_count": 340,
   "metadata": {
    "collapsed": false
   },
   "outputs": [
    {
     "data": {
      "text/plain": [
       "{'0th': {}, '1st': {}, 'Exif': {}, 'GPS': {}, 'Interop': {}, 'thumbnail': None}"
      ]
     },
     "execution_count": 340,
     "metadata": {},
     "output_type": "execute_result"
    }
   ],
   "source": [
    "exif_dict"
   ]
  },
  {
   "cell_type": "code",
   "execution_count": 336,
   "metadata": {
    "collapsed": true
   },
   "outputs": [],
   "source": [
    "exif_dict = piexif.load(img.info[\"exif\"])"
   ]
  },
  {
   "cell_type": "code",
   "execution_count": 337,
   "metadata": {
    "collapsed": false
   },
   "outputs": [
    {
     "data": {
      "text/plain": [
       "{'0th': {}, '1st': {}, 'Exif': {}, 'GPS': {}, 'Interop': {}, 'thumbnail': None}"
      ]
     },
     "execution_count": 337,
     "metadata": {},
     "output_type": "execute_result"
    }
   ],
   "source": [
    "exif_dict"
   ]
  },
  {
   "cell_type": "code",
   "execution_count": 344,
   "metadata": {
    "collapsed": false
   },
   "outputs": [],
   "source": [
    "img = Image.open(img_path)"
   ]
  },
  {
   "cell_type": "code",
   "execution_count": 345,
   "metadata": {
    "collapsed": false
   },
   "outputs": [
    {
     "data": {
      "text/plain": [
       "{'dpi': (300, 300),\n",
       " 'jfif': 257,\n",
       " 'jfif_density': (300, 300),\n",
       " 'jfif_unit': 1,\n",
       " 'jfif_version': (1, 1)}"
      ]
     },
     "execution_count": 345,
     "metadata": {},
     "output_type": "execute_result"
    }
   ],
   "source": [
    "img.info"
   ]
  },
  {
   "cell_type": "code",
   "execution_count": 349,
   "metadata": {
    "collapsed": false
   },
   "outputs": [],
   "source": [
    "img.close()"
   ]
  },
  {
   "cell_type": "code",
   "execution_count": 359,
   "metadata": {
    "collapsed": false
   },
   "outputs": [
    {
     "data": {
      "text/plain": [
       "PIL.Image.Image"
      ]
     },
     "execution_count": 359,
     "metadata": {},
     "output_type": "execute_result"
    }
   ],
   "source": [
    "type(img)"
   ]
  },
  {
   "cell_type": "code",
   "execution_count": 360,
   "metadata": {
    "collapsed": true
   },
   "outputs": [],
   "source": [
    "img.close()"
   ]
  },
  {
   "cell_type": "code",
   "execution_count": null,
   "metadata": {
    "collapsed": true
   },
   "outputs": [],
   "source": []
  }
 ],
 "metadata": {
  "anaconda-cloud": {},
  "kernelspec": {
   "display_name": "Python [conda root]",
   "language": "python",
   "name": "conda-root-py"
  },
  "language_info": {
   "codemirror_mode": {
    "name": "ipython",
    "version": 3
   },
   "file_extension": ".py",
   "mimetype": "text/x-python",
   "name": "python",
   "nbconvert_exporter": "python",
   "pygments_lexer": "ipython3",
   "version": "3.5.2"
  }
 },
 "nbformat": 4,
 "nbformat_minor": 1
}
