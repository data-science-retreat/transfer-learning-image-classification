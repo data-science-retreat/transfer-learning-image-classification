{
 "cells": [
  {
   "cell_type": "code",
   "execution_count": 1,
   "metadata": {
    "collapsed": true
   },
   "outputs": [],
   "source": [
    "seed = 12345\n",
    "from IPython.core.interactiveshell import InteractiveShell\n",
    "InteractiveShell.ast_node_interactivity = \"all\""
   ]
  },
  {
   "cell_type": "code",
   "execution_count": 2,
   "metadata": {
    "collapsed": false
   },
   "outputs": [],
   "source": [
    "import matplotlib \n",
    "matplotlib.use('Agg') \n",
    "%matplotlib inline\n",
    "import matplotlib.pyplot as plt"
   ]
  },
  {
   "cell_type": "code",
   "execution_count": 3,
   "metadata": {
    "collapsed": false
   },
   "outputs": [
    {
     "name": "stderr",
     "output_type": "stream",
     "text": [
      "Using Theano backend.\n",
      "Using gpu device 0: GeForce GTX 960M (CNMeM is disabled, cuDNN not available)\n"
     ]
    }
   ],
   "source": [
    "import os\n",
    "from keras.preprocessing.image import ImageDataGenerator, array_to_img, img_to_array, load_img\n",
    "from keras.preprocessing import image\n",
    "from keras.models import load_model\n",
    "import pandas as pd\n",
    "import h5py\n",
    "import numpy as np\n",
    "import pickle\n",
    "from PIL import ImageDraw\n",
    "from PIL import Image\n",
    "from PIL import ImageFont\n",
    "from PIL.ExifTags import TAGS\n",
    "import time\n",
    "\n",
    "os.environ[\"THEANO_FLAGS\"] = \"mode=FAST_RUN,device=gpu,floatX=float32\""
   ]
  },
  {
   "cell_type": "code",
   "execution_count": 4,
   "metadata": {
    "collapsed": true
   },
   "outputs": [],
   "source": [
    "def fix_image_orientation(img):\n",
    "    try:\n",
    "        if hasattr(img, '_getexif'): # only present in JPEGs\n",
    "            for orientation in TAGS.keys(): \n",
    "                if TAGS[orientation]=='Orientation':\n",
    "                    break \n",
    "            e = img._getexif()       # returns None if no EXIF data\n",
    "            if e is not None:\n",
    "                exif=dict(e.items())\n",
    "                orientation = exif[orientation]\n",
    "\n",
    "                if orientation == 3:   img = img.transpose(Image.ROTATE_180)\n",
    "                elif orientation == 6: img = img.transpose(Image.ROTATE_270)\n",
    "                elif orientation == 8: img = img.transpose(Image.ROTATE_90)\n",
    "    except:\n",
    "        pass\n",
    "    return img"
   ]
  },
  {
   "cell_type": "markdown",
   "metadata": {},
   "source": [
    "#### The script used to save food info into a pickle file from a csv tab txt file\n",
    "<code>\n",
    "import csv\n",
    "file = csv.reader(open(\"./UECFOOD100/category_calorie.txt\"))\n",
    "food_info = {}\n",
    "for row in file:\n",
    "    line = row[0].split('\\t')\n",
    "    food_info[line[0]] = (line[1].capitalize(), int(line[2]))\n",
    "\n",
    "with open('food_info.p', 'wb') as fp:\n",
    "    pickle.dump(food_info, fp)\n",
    "\n",
    "</code>"
   ]
  },
  {
   "cell_type": "code",
   "execution_count": 5,
   "metadata": {
    "collapsed": true
   },
   "outputs": [],
   "source": [
    "# Load the class indices map\n",
    "import pickle\n",
    "with open('class_indices_map.p', 'rb') as fp:\n",
    "    prediction_to_class_map = pickle.load(fp)"
   ]
  },
  {
   "cell_type": "code",
   "execution_count": 6,
   "metadata": {
    "collapsed": false
   },
   "outputs": [],
   "source": [
    "# Load food class info: Name, and Calorie.\n",
    "# Dictionary: food_info[str class] -> (str Name, int calories)\n",
    "with open('food_info.p', 'rb') as fp:\n",
    "    food_info = pickle.load(fp)"
   ]
  },
  {
   "cell_type": "code",
   "execution_count": 7,
   "metadata": {
    "collapsed": true
   },
   "outputs": [],
   "source": [
    "# Load the original trained model with its weights\n",
    "model = load_model('fine_tuned_model_all.h5')"
   ]
  },
  {
   "cell_type": "code",
   "execution_count": 8,
   "metadata": {
    "collapsed": false
   },
   "outputs": [],
   "source": [
    "# Load the fine-tuned weights\n",
    "model.load_weights('weights.best_28_11.hdf5')"
   ]
  },
  {
   "cell_type": "code",
   "execution_count": 113,
   "metadata": {
    "collapsed": true
   },
   "outputs": [],
   "source": [
    "# train_data_dir = './UECFOOD100/data/train'\n",
    "# validation_data_dir = './UECFOOD100/data/validation'\n",
    "# img_width, img_height = 150, 150\n",
    "# nb_train_samples = 10183\n",
    "# nb_validation_samples = 4428"
   ]
  },
  {
   "cell_type": "code",
   "execution_count": 114,
   "metadata": {
    "collapsed": false
   },
   "outputs": [],
   "source": [
    "# test_datagen = ImageDataGenerator(rescale=1./255)\n",
    "\n",
    "# validation_generator = test_datagen.flow_from_directory(\n",
    "#         validation_data_dir,\n",
    "#         target_size=(img_height, img_width),\n",
    "#         batch_size=1,\n",
    "#         class_mode='categorical',\n",
    "#         shuffle=False,\n",
    "#         seed=seed)"
   ]
  },
  {
   "cell_type": "code",
   "execution_count": 11,
   "metadata": {
    "collapsed": false,
    "scrolled": true
   },
   "outputs": [
    {
     "name": "stdout",
     "output_type": "stream",
     "text": [
      "Started monitoring folder for new images...\n",
      "C:\\Users\\ali_a\\Dropbox\\IMG_20161215_124547_prediction.jpg ['6' '43' '92' '59' '9' '3'] Beef curry Contains 520 Calories.\n",
      "Stopped!\n"
     ]
    }
   ],
   "source": [
    "repeat_duration = 600 #seconds\n",
    "pause_time = 3\n",
    "loops = repeat_duration/pause_time\n",
    "print('Started monitoring folder for new images...')\n",
    "while 1:\n",
    "    if loops < 0: break\n",
    "    loops -= 1\n",
    "    #time.asctime(time.localtime(time.time()))\n",
    "    time.sleep(pause_time)\n",
    "    allfiles = os.listdir(r'C:\\Users\\ali_a\\Dropbox')\n",
    "    for f in allfiles:\n",
    "        if f.endswith(\".jpg\") and f[:-4]+'_prediction.jpg' not in allfiles and 'prediction' not in f:\n",
    "            img_path = os.path.join(r'C:\\Users\\ali_a\\Dropbox',f)\n",
    "            try:\n",
    "                img = image.load_img(img_path, target_size=(150, 150))             \n",
    "            except:\n",
    "                print('file read error. Skipped')\n",
    "                continue\n",
    "            x = image.img_to_array(img)\n",
    "            x = np.expand_dims(x, axis=0)\n",
    "\n",
    "            prediction_proba = model.predict(x/255)            \n",
    "            prediction = prediction_proba.argsort()[0,-1::-1]\n",
    "            prediction = np.vectorize(prediction_to_class_map.get)(prediction)\n",
    "\n",
    "            print (img_path[:-4]+'_prediction.jpg', prediction[0:6], food_info[prediction[0]][0], 'Contains',\n",
    "                  food_info[prediction[0]][1], 'Calories.')\n",
    "\n",
    "            # Save the result as a textbox on a new image ending with _prediction\n",
    "            img = Image.open(img_path)\n",
    "            img = fix_image_orientation(img)\n",
    "            # Resize large images:\n",
    "            if img.size[0] > 1000:\n",
    "                ratio = img.size[0]/1000\n",
    "                new_width = 1000\n",
    "                new_height = int(img.size[1]/ratio)\n",
    "                img = img.resize((new_width, new_height), resample=Image.BILINEAR)\n",
    "            \n",
    "            alt_img = img.copy()\n",
    "\n",
    "            draw = ImageDraw.Draw(img)\n",
    "            fontsize = 1\n",
    "            font = ImageFont.truetype(r'C:\\Windows\\Fonts\\ARIAL.TTF', fontsize)\n",
    "            text = food_info[prediction[0]][0]+ '\\n' + str(food_info[prediction[0]][1]) + ' calories.'\n",
    "            \n",
    "            while draw.textsize(text, font=font)[0] < 0.35*img.size[0]:\n",
    "                fontsize +=1\n",
    "                font = ImageFont.truetype(r'C:\\Windows\\Fonts\\ARIAL.TTF', fontsize)\n",
    "\n",
    "            fontsize -= 1\n",
    "            if fontsize < 12:\n",
    "                fontsize = 12\n",
    "            font = ImageFont.truetype(r'C:\\Windows\\Fonts\\ARIAL.TTF', fontsize)\n",
    "            textsize = draw.textsize(text, font=font)\n",
    "            offset = font.getoffset(text)\n",
    "\n",
    "            draw.rectangle((0,0,textsize[0]+offset[0],textsize[1]+offset[1]), fill=(255,255,255))\n",
    "            draw.text((0, 0),text,(0,0,0),font=font)\n",
    "\n",
    "            output_path = img_path[:-4]+'_prediction.jpg'\n",
    "            img.save(output_path)\n",
    "            \n",
    "            ## Alternative image with top-5 predictions\n",
    "            draw = ImageDraw.Draw(alt_img)\n",
    "            fontsize = 1\n",
    "            font = ImageFont.truetype(r'C:\\Windows\\Fonts\\ARIAL.TTF', fontsize)\n",
    "            alt_text = '\\n'.join([' '.join([str(food_info[_][0]), str(food_info[_][1]), 'Calories']) for _ in prediction[0:5]][0:6])\n",
    "            while draw.textsize(alt_text, font=font)[0] < 0.3*alt_img.size[0]:\n",
    "                fontsize +=1\n",
    "                font = ImageFont.truetype(r'C:\\Windows\\Fonts\\ARIAL.TTF', fontsize)\n",
    "\n",
    "            fontsize -= 1\n",
    "            if fontsize < 12:\n",
    "                fontsize = 12\n",
    "            font = ImageFont.truetype(r'C:\\Windows\\Fonts\\ARIAL.TTF', fontsize)\n",
    "            textsize = draw.textsize(alt_text, font=font)\n",
    "            offset = font.getoffset(alt_text)\n",
    "\n",
    "            draw.rectangle((0,0,textsize[0]+offset[0],textsize[1]+offset[1]), fill=(255,255,255))\n",
    "            draw.text((0, 0),alt_text,(0,0,0),font=font)\n",
    "\n",
    "            output_path = img_path[:-4]+'_top5_predictions.jpg'\n",
    "            alt_img.save(output_path)\n",
    "\n",
    "print('Stopped!')"
   ]
  },
  {
   "cell_type": "code",
   "execution_count": null,
   "metadata": {
    "collapsed": true
   },
   "outputs": [],
   "source": []
  }
 ],
 "metadata": {
  "anaconda-cloud": {},
  "kernelspec": {
   "display_name": "Python [conda root]",
   "language": "python",
   "name": "conda-root-py"
  },
  "language_info": {
   "codemirror_mode": {
    "name": "ipython",
    "version": 3
   },
   "file_extension": ".py",
   "mimetype": "text/x-python",
   "name": "python",
   "nbconvert_exporter": "python",
   "pygments_lexer": "ipython3",
   "version": "3.5.2"
  }
 },
 "nbformat": 4,
 "nbformat_minor": 1
}
